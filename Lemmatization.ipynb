{
 "cells": [
  {
   "cell_type": "markdown",
   "metadata": {},
   "source": [
    "# Lemmatization\n",
    "\n",
    "Lemmatization, unlike Stemming, reduces the inflected words properly ensuring that the root word belongs to the language. \n",
    "\n",
    "\n",
    "In Lemmatization root word is called Lemma\n",
    "\n",
    "\n",
    "\n",
    "Python NLTK provides WordNet Lemmatizer that uses the WordNet Database to lookup lemmas of words.\n",
    "\n",
    "\n",
    "\n",
    "wordnet_lemmatizer.lemmatize\n",
    "\n",
    "\n",
    "slower than stemming"
   ]
  },
  {
   "cell_type": "code",
   "execution_count": 1,
   "metadata": {},
   "outputs": [],
   "source": [
    "import nltk\n",
    "from nltk.stem import WordNetLemmatizer\n",
    "from nltk.corpus import stopwords"
   ]
  },
  {
   "cell_type": "code",
   "execution_count": 9,
   "metadata": {},
   "outputs": [],
   "source": [
    "paragraph = \"\"\" In all probability this will be my last speech to you. Even if the Government allow me to march tomorrow morning, this will be my last speech on the sacred banks of the Sabarmati. Possibly these may be the last words of my life here.\n",
    "I have already told you yesterday what I had to say. Today I shall confine myself to what you should do after my companions and I are arrested. The programme of the march to Jalalpur must be fulfilled as originally settled. The enlistment of the volunteers for this purpose should be confined to Gujarat only. From what I have been and heard during the last fortnight, I am inclined to believe that the stream of civil resisters will flow unbroken.\n",
    "But let there be not a semblance of breach of peace even after all of us have been arrested. We have resolved to utilize all our resources in the pursuit of an exclusively nonviolent struggle. Let no one commit a wrong in anger. This is my hope and prayer. I wish these words of mine reached every nook and corner of the land. My task shall be done if I perish and so do my comrades. It will then be for the Working Committee of the Congress to show you the way and it will be up to you to follow its lead. So long as I have reached Jalalpur, let nothing be done in contravention to the authority vested in me by the Congress. But once I am arrested, the whole responsibility shifts to the Congress. No one who believes in non-violence, as a creed, need, therefore, sit still. My compact with the Congress ends as soon as I am arrested. In that case volunteers. Wherever possible, civil disobedience of salt should be started. These laws can be violated in three ways. It is an offence to manufacture salt wherever there are facilities for doing so. The possession and sale of contraband salt, which includes natural salt or salt earth, is also an offence. The purchasers of such salt will be equally guilty. To carry away the natural salt deposits on the seashore is likewise violation of law. So is the hawking of such salt. In short, you may  choose any one or all of these devices to break the salt monopoly..\"\"\"\n",
    "               "
   ]
  },
  {
   "cell_type": "code",
   "execution_count": 10,
   "metadata": {},
   "outputs": [
    {
     "data": {
      "text/plain": [
       "[' In all probability this will be my last speech to you.',\n",
       " 'Even if the Government allow me to march tomorrow morning, this will be my last speech on the sacred banks of the Sabarmati.',\n",
       " 'Possibly these may be the last words of my life here.',\n",
       " 'I have already told you yesterday what I had to say.',\n",
       " 'Today I shall confine myself to what you should do after my companions and I are arrested.',\n",
       " 'The programme of the march to Jalalpur must be fulfilled as originally settled.',\n",
       " 'The enlistment of the volunteers for this purpose should be confined to Gujarat only.',\n",
       " 'From what I have been and heard during the last fortnight, I am inclined to believe that the stream of civil resisters will flow unbroken.',\n",
       " 'But let there be not a semblance of breach of peace even after all of us have been arrested.',\n",
       " 'We have resolved to utilize all our resources in the pursuit of an exclusively nonviolent struggle.',\n",
       " 'Let no one commit a wrong in anger.',\n",
       " 'This is my hope and prayer.',\n",
       " 'I wish these words of mine reached every nook and corner of the land.',\n",
       " 'My task shall be done if I perish and so do my comrades.',\n",
       " 'It will then be for the Working Committee of the Congress to show you the way and it will be up to you to follow its lead.',\n",
       " 'So long as I have reached Jalalpur, let nothing be done in contravention to the authority vested in me by the Congress.',\n",
       " 'But once I am arrested, the whole responsibility shifts to the Congress.',\n",
       " 'No one who believes in non-violence, as a creed, need, therefore, sit still.',\n",
       " 'My compact with the Congress ends as soon as I am arrested.',\n",
       " 'In that case volunteers.',\n",
       " 'Wherever possible, civil disobedience of salt should be started.',\n",
       " 'These laws can be violated in three ways.',\n",
       " 'It is an offence to manufacture salt wherever there are facilities for doing so.',\n",
       " 'The possession and sale of contraband salt, which includes natural salt or salt earth, is also an offence.',\n",
       " 'The purchasers of such salt will be equally guilty.',\n",
       " 'To carry away the natural salt deposits on the seashore is likewise violation of law.',\n",
       " 'So is the hawking of such salt.',\n",
       " 'In short, you may  choose any one or all of these devices to break the salt monopoly..']"
      ]
     },
     "execution_count": 10,
     "metadata": {},
     "output_type": "execute_result"
    }
   ],
   "source": [
    "sentences = nltk.sent_tokenize(paragraph)\n",
    "sentences"
   ]
  },
  {
   "cell_type": "code",
   "execution_count": 11,
   "metadata": {},
   "outputs": [],
   "source": [
    "lemmatizer = WordNetLemmatizer()"
   ]
  },
  {
   "cell_type": "code",
   "execution_count": 12,
   "metadata": {},
   "outputs": [],
   "source": [
    "# Lemmatization\n",
    "for i in range(len(sentences)):\n",
    "    words = nltk.word_tokenize(sentences[i])\n",
    "    words = [lemmatizer.lemmatize(word) for word in words if word not in set(stopwords.words('english'))]\n",
    "    sentences[i] = ' '.join(words)   "
   ]
  },
  {
   "cell_type": "code",
   "execution_count": 13,
   "metadata": {},
   "outputs": [
    {
     "data": {
      "text/plain": [
       "['In probability last speech .',\n",
       " 'Even Government allow march tomorrow morning , last speech sacred bank Sabarmati .',\n",
       " 'Possibly may last word life .',\n",
       " 'I already told yesterday I say .',\n",
       " 'Today I shall confine companion I arrested .',\n",
       " 'The programme march Jalalpur must fulfilled originally settled .',\n",
       " 'The enlistment volunteer purpose confined Gujarat .',\n",
       " 'From I heard last fortnight , I inclined believe stream civil resister flow unbroken .',\n",
       " 'But let semblance breach peace even u arrested .',\n",
       " 'We resolved utilize resource pursuit exclusively nonviolent struggle .',\n",
       " 'Let one commit wrong anger .',\n",
       " 'This hope prayer .',\n",
       " 'I wish word mine reached every nook corner land .',\n",
       " 'My task shall done I perish comrade .',\n",
       " 'It Working Committee Congress show way follow lead .',\n",
       " 'So long I reached Jalalpur , let nothing done contravention authority vested Congress .',\n",
       " 'But I arrested , whole responsibility shift Congress .',\n",
       " 'No one belief non-violence , creed , need , therefore , sit still .',\n",
       " 'My compact Congress end soon I arrested .',\n",
       " 'In case volunteer .',\n",
       " 'Wherever possible , civil disobedience salt started .',\n",
       " 'These law violated three way .',\n",
       " 'It offence manufacture salt wherever facility .',\n",
       " 'The possession sale contraband salt , includes natural salt salt earth , also offence .',\n",
       " 'The purchaser salt equally guilty .',\n",
       " 'To carry away natural salt deposit seashore likewise violation law .',\n",
       " 'So hawking salt .',\n",
       " 'In short , may choose one device break salt monopoly..']"
      ]
     },
     "execution_count": 13,
     "metadata": {},
     "output_type": "execute_result"
    }
   ],
   "source": [
    "sentences"
   ]
  },
  {
   "cell_type": "code",
   "execution_count": null,
   "metadata": {},
   "outputs": [],
   "source": []
  }
 ],
 "metadata": {
  "kernelspec": {
   "display_name": "Python 3",
   "language": "python",
   "name": "python3"
  },
  "language_info": {
   "codemirror_mode": {
    "name": "ipython",
    "version": 3
   },
   "file_extension": ".py",
   "mimetype": "text/x-python",
   "name": "python",
   "nbconvert_exporter": "python",
   "pygments_lexer": "ipython3",
   "version": "3.7.6"
  }
 },
 "nbformat": 4,
 "nbformat_minor": 4
}
