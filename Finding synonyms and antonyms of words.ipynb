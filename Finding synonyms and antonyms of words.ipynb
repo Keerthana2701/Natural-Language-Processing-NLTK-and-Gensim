{
 "cells": [
  {
   "cell_type": "markdown",
   "metadata": {},
   "source": [
    "http://wordnetweb.princeton.edu/perl/webwn\n",
    "\n",
    "\n",
    "ex : search good\n",
    "    \n",
    "    \n",
    "it gives synset of that words --cognitive synonyms in form of noun, adjective etc\n",
    "        \n",
    "        \n",
    "we need to extract it."
   ]
  },
  {
   "cell_type": "code",
   "execution_count": 1,
   "metadata": {},
   "outputs": [],
   "source": [
    "from nltk.corpus import wordnet"
   ]
  },
  {
   "cell_type": "code",
   "execution_count": 2,
   "metadata": {},
   "outputs": [],
   "source": [
    "synonyms = []\n",
    "antonyms = []"
   ]
  },
  {
   "cell_type": "code",
   "execution_count": 3,
   "metadata": {},
   "outputs": [],
   "source": [
    "for syn in wordnet.synsets(\"good\"):  # synsets contains all words. loop through it\n",
    "    for s in syn.lemmas():           # lemmas gives all words for that synset\n",
    "        synonyms.append(s.name())   #s.name returns word names\n",
    "        for a in s.antonyms():      # antonyms is a utility fuction to get antonyms for that word\n",
    "            antonyms.append(a.name())"
   ]
  },
  {
   "cell_type": "code",
   "execution_count": 4,
   "metadata": {},
   "outputs": [
    {
     "name": "stdout",
     "output_type": "stream",
     "text": [
      "{'estimable', 'dear', 'dependable', 'upright', 'undecomposed', 'in_effect', 'secure', 'near', 'just', 'thoroughly', 'practiced', 'honest', 'safe', 'right', 'ripe', 'proficient', 'respectable', 'honorable', 'well', 'sound', 'effective', 'in_force', 'adept', 'salutary', 'good', 'expert', 'trade_good', 'unspoilt', 'goodness', 'skilful', 'soundly', 'unspoiled', 'skillful', 'serious', 'commodity', 'full', 'beneficial'}\n",
      "{'evilness', 'badness', 'ill', 'evil', 'bad'}\n"
     ]
    }
   ],
   "source": [
    "print(set(synonyms))\n",
    "print(set(antonyms))"
   ]
  },
  {
   "cell_type": "code",
   "execution_count": null,
   "metadata": {},
   "outputs": [],
   "source": []
  }
 ],
 "metadata": {
  "kernelspec": {
   "display_name": "Python 3",
   "language": "python",
   "name": "python3"
  },
  "language_info": {
   "codemirror_mode": {
    "name": "ipython",
    "version": 3
   },
   "file_extension": ".py",
   "mimetype": "text/x-python",
   "name": "python",
   "nbconvert_exporter": "python",
   "pygments_lexer": "ipython3",
   "version": "3.7.6"
  }
 },
 "nbformat": 4,
 "nbformat_minor": 4
}
