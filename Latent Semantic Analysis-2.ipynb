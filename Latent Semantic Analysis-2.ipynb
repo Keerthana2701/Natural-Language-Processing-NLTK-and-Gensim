{
 "cells": [
  {
   "cell_type": "code",
   "execution_count": 1,
   "metadata": {},
   "outputs": [],
   "source": [
    "from sklearn.feature_extraction.text import TfidfVectorizer\n",
    "from sklearn.decomposition import TruncatedSVD\n",
    "import nltk"
   ]
  },
  {
   "cell_type": "code",
   "execution_count": 2,
   "metadata": {},
   "outputs": [],
   "source": [
    "dataset = [\"The amount of polution is increasing day by day\",\n",
    "           \"The concert was just great\",\n",
    "           \"I love to see Gordon Ramsay cook\",\n",
    "           \"Google is introducing a new technology\",\n",
    "           \"AI Robots are examples of great technology present today\",\n",
    "           \"All of us were singing in the concert\",\n",
    "           \"We have launch campaigns to stop pollution and global warming\"]\n",
    "\n",
    "dataset = [line.lower() for line in dataset]"
   ]
  },
  {
   "cell_type": "code",
   "execution_count": 3,
   "metadata": {},
   "outputs": [
    {
     "data": {
      "text/plain": [
       "['the amount of polution is increasing day by day',\n",
       " 'the concert was just great',\n",
       " 'i love to see gordon ramsay cook',\n",
       " 'google is introducing a new technology',\n",
       " 'ai robots are examples of great technology present today',\n",
       " 'all of us were singing in the concert',\n",
       " 'we have launch campaigns to stop pollution and global warming']"
      ]
     },
     "execution_count": 3,
     "metadata": {},
     "output_type": "execute_result"
    }
   ],
   "source": [
    "dataset"
   ]
  },
  {
   "cell_type": "code",
   "execution_count": 4,
   "metadata": {},
   "outputs": [
    {
     "name": "stdout",
     "output_type": "stream",
     "text": [
      "  (0, 5)\t0.3211483974289089\n",
      "  (0, 9)\t0.6422967948578178\n",
      "  (0, 17)\t0.3211483974289089\n",
      "  (0, 19)\t0.2665807498646048\n",
      "  (0, 26)\t0.3211483974289089\n",
      "  (0, 24)\t0.2278643877752444\n",
      "  (0, 2)\t0.3211483974289089\n",
      "  (0, 34)\t0.2278643877752444\n"
     ]
    }
   ],
   "source": [
    "# Creating Tfidf Model\n",
    "vectorizer = TfidfVectorizer()\n",
    "X = vectorizer.fit_transform(dataset)\n",
    "\n",
    "# Visualizing the Tfidf Model\n",
    "print(X[0])"
   ]
  },
  {
   "cell_type": "code",
   "execution_count": 6,
   "metadata": {},
   "outputs": [
    {
     "data": {
      "text/plain": [
       "array([-2.39508717e-01,  5.64466475e-02,  2.32713384e-01, -2.33390782e-16,\n",
       "       -2.39508717e-01,  2.32713384e-01, -2.75805729e-16, -4.43102940e-02,\n",
       "       -2.47452842e-16,  4.65426768e-01, -2.39508717e-01, -2.75805729e-16,\n",
       "        2.34583657e-02, -2.47452842e-16, -2.89978663e-01, -2.75805729e-16,\n",
       "        5.64466475e-02,  2.32713384e-01,  2.34583657e-02,  2.12644552e-01,\n",
       "       -1.09827021e-01, -2.75805729e-16, -2.47452842e-16,  2.34583657e-02,\n",
       "        3.52290920e-02, -2.75805729e-16,  2.32713384e-01, -2.39508717e-01,\n",
       "       -2.47452842e-16, -2.39508717e-01, -2.47452842e-16,  5.64466475e-02,\n",
       "       -2.75805729e-16, -1.79340346e-01,  1.27242132e-01, -4.36622216e-16,\n",
       "       -2.39508717e-01,  5.64466475e-02, -2.75805729e-16, -1.09827021e-01,\n",
       "       -2.75805729e-16,  5.64466475e-02])"
      ]
     },
     "execution_count": 6,
     "metadata": {},
     "output_type": "execute_result"
    }
   ],
   "source": [
    "# Creating the SVD\n",
    "lsa = TruncatedSVD(n_components = 4, n_iter = 100)\n",
    "lsa.fit(X)\n",
    "\n",
    "\n",
    "# First Column of V\n",
    "row1 = lsa.components_[3]\n",
    "row1"
   ]
  },
  {
   "cell_type": "code",
   "execution_count": 7,
   "metadata": {},
   "outputs": [],
   "source": [
    "# Word Concept Dictionary Creation\n",
    "concept_words = {}"
   ]
  },
  {
   "cell_type": "code",
   "execution_count": 8,
   "metadata": {},
   "outputs": [],
   "source": [
    "# Visualizing the concepts\n",
    "terms = vectorizer.get_feature_names()\n",
    "for i,comp in enumerate(lsa.components_):\n",
    "    componentTerms = zip(terms,comp)\n",
    "    sortedTerms = sorted(componentTerms,key=lambda x:x[1],reverse=True)\n",
    "    sortedTerms = sortedTerms[:10]\n",
    "    concept_words[\"Concept \"+str(i)] = sortedTerms\n",
    "    "
   ]
  },
  {
   "cell_type": "code",
   "execution_count": 9,
   "metadata": {},
   "outputs": [
    {
     "data": {
      "text/plain": [
       "{'Concept 0': [('the', 0.3760982952926378),\n",
       "  ('concert', 0.34498873923306633),\n",
       "  ('great', 0.300124025894874),\n",
       "  ('of', 0.2957980609526666),\n",
       "  ('just', 0.2373658292979127),\n",
       "  ('was', 0.2373658292979127),\n",
       "  ('day', 0.2289215954150454),\n",
       "  ('technology', 0.18383834567413385),\n",
       "  ('all', 0.1782402517562896),\n",
       "  ('in', 0.1782402517562896)],\n",
       " 'Concept 1': [('to', 0.41578844396700704),\n",
       "  ('cook', 0.28359165793510804),\n",
       "  ('gordon', 0.28359165793510804),\n",
       "  ('love', 0.28359165793510804),\n",
       "  ('ramsay', 0.28359165793510804),\n",
       "  ('see', 0.28359165793510804),\n",
       "  ('and', 0.2173064471129242),\n",
       "  ('campaigns', 0.2173064471129242),\n",
       "  ('global', 0.2173064471129242),\n",
       "  ('have', 0.2173064471129242)],\n",
       " 'Concept 2': [('technology', 0.37791806767144004),\n",
       "  ('is', 0.3419614380631987),\n",
       "  ('google', 0.341396944190975),\n",
       "  ('introducing', 0.341396944190975),\n",
       "  ('new', 0.341396944190975),\n",
       "  ('day', 0.14112432680994696),\n",
       "  ('are', 0.11387892195372991),\n",
       "  ('examples', 0.11387892195372991),\n",
       "  ('present', 0.11387892195372991),\n",
       "  ('robots', 0.11387892195372991)],\n",
       " 'Concept 3': [('day', 0.4654267679041114),\n",
       "  ('amount', 0.2327133839520557),\n",
       "  ('by', 0.2327133839520557),\n",
       "  ('increasing', 0.2327133839520557),\n",
       "  ('polution', 0.2327133839520557),\n",
       "  ('is', 0.21264455202450017),\n",
       "  ('the', 0.1272421318069433),\n",
       "  ('all', 0.05644664752726501),\n",
       "  ('in', 0.056446647527265),\n",
       "  ('singing', 0.056446647527265)]}"
      ]
     },
     "execution_count": 9,
     "metadata": {},
     "output_type": "execute_result"
    }
   ],
   "source": [
    "concept_words  # words in each concept and its value"
   ]
  },
  {
   "cell_type": "code",
   "execution_count": 10,
   "metadata": {},
   "outputs": [
    {
     "name": "stdout",
     "output_type": "stream",
     "text": [
      "\n",
      "Concept 0:\n",
      "1.1297395470753953\n",
      "1.4959427190164036\n",
      "0\n",
      "0.18383834567413385\n",
      "0.7797604325216744\n",
      "1.37336559899095\n",
      "0\n",
      "\n",
      "Concept 1:\n",
      "0\n",
      "0\n",
      "1.8337467336425475\n",
      "0\n",
      "0\n",
      "0\n",
      "1.285014232418704\n",
      "\n",
      "Concept 2:\n",
      "0.6242100916830926\n",
      "0\n",
      "0\n",
      "1.7440703383075635\n",
      "0.8334337554863598\n",
      "0\n",
      "0\n",
      "\n",
      "Concept 3:\n",
      "2.201593755447889\n",
      "0.1272421318069433\n",
      "0\n",
      "0.21264455202450017\n",
      "0\n",
      "0.2965820743887383\n",
      "0\n"
     ]
    }
   ],
   "source": [
    "# Sentence Concepts  -- gives scores for all sentences in the concept\n",
    "\n",
    "for key in concept_words.keys():\n",
    "    sentence_scores = []\n",
    "    for sentence in dataset:\n",
    "        words = nltk.word_tokenize(sentence)\n",
    "        score = 0\n",
    "        for word in words:\n",
    "            for word_with_score in concept_words[key]:\n",
    "                if word == word_with_score[0]:\n",
    "                    score += word_with_score[1]\n",
    "        sentence_scores.append(score)\n",
    "    print(\"\\n\"+key+\":\")\n",
    "    for sentence_score in sentence_scores:\n",
    "        print(sentence_score)"
   ]
  },
  {
   "cell_type": "code",
   "execution_count": null,
   "metadata": {},
   "outputs": [],
   "source": [
    "# we see that for concept 0, the 2nd sentence is most important"
   ]
  }
 ],
 "metadata": {
  "kernelspec": {
   "display_name": "Python 3",
   "language": "python",
   "name": "python3"
  },
  "language_info": {
   "codemirror_mode": {
    "name": "ipython",
    "version": 3
   },
   "file_extension": ".py",
   "mimetype": "text/x-python",
   "name": "python",
   "nbconvert_exporter": "python",
   "pygments_lexer": "ipython3",
   "version": "3.7.6"
  }
 },
 "nbformat": 4,
 "nbformat_minor": 4
}
