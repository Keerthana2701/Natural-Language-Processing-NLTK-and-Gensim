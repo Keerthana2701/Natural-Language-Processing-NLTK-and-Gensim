# -*- coding: utf-8 -*-
"""
Created on Tue Oct  6 20:42:19 2020

@author: Vikee
"""


# Frequency Distribution -NLTK


import nltk

files = nltk.corpus.gutenberg.fileids()

data = nltk.corpus.gutenberg.words("shakespeare-caesar.txt")

## how many times each word occurs

data_freqdist = nltk.FreqDist(data)

data_freqdist["The"]