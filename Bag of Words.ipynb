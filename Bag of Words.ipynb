{
 "cells": [
  {
   "cell_type": "markdown",
   "metadata": {},
   "source": [
    "# Bag of Words\n",
    "\n",
    "represent a sentence as a bag of words vector (a string of numbers).\n",
    "\n",
    "Bag of Words just creates a set of vectors containing the count of word occurrences in the document "
   ]
  },
  {
   "cell_type": "code",
   "execution_count": 14,
   "metadata": {},
   "outputs": [],
   "source": [
    "import nltk\n"
   ]
  },
  {
   "cell_type": "code",
   "execution_count": 32,
   "metadata": {},
   "outputs": [],
   "source": [
    "paragraph =  \"\"\" I do not think that I should apologize to you for having to speak in a foreign tongue. I wonder if this loud speaker carries my voice to the farthest end of this vast audience. If some of those who are far away are unable to listen to what I may say, it will be the fault of the loud speaker.\n",
    "I was going to tell you that I do not wish to apologize. I dare not. You cannot understand the provincial language, which is my mother tongue. I do not want to insult you by speaking in my own language (Gujarati). Our national speech is Hindustani. I know that it will be a long time before it can be made into an international speech. For international commerce, undoubtedly, English occupies the first place. I used to hear that French was the language of diplomacy. I was told, when I was young, that if I wanted to go from one end of Europe to the other, I must try to pick up French. I tried to learn French, in order that I may be able to make myself understood. There is a rivalry between the French and the English. Having been taught English, I have naturally to resort to it.\n",
    "I was wondering, as to what I was to speak to you. I wanted to collect my thoughts, but, let me confess to you that I had no time. Yet I had promised yesterday that I would try to say a few words. While I was coming with Badshah Khan, I asked for a little piece of paper and pencil. I got a pen, instead of a pencil. I tried to scribble a few words. You will be sorry to hear that piece of paper is not by my side, though I remember what I wanted to say.\"\"\"\n",
    "               "
   ]
  },
  {
   "cell_type": "code",
   "execution_count": 33,
   "metadata": {},
   "outputs": [],
   "source": [
    "# Cleaning the texts\n",
    "import re  #regular expression\n",
    "from nltk.corpus import stopwords\n",
    "from nltk.stem.porter import PorterStemmer\n",
    "from nltk.stem import WordNetLemmatizer"
   ]
  },
  {
   "cell_type": "code",
   "execution_count": 34,
   "metadata": {},
   "outputs": [],
   "source": [
    "ps = PorterStemmer()\n",
    "wordnet=WordNetLemmatizer()\n",
    "sentences = nltk.sent_tokenize(paragraph)\n",
    "corpus = []\n",
    "for i in range(len(sentences)):\n",
    "    review = re.sub('[^a-zA-Z]', ' ', sentences[i])\n",
    "    review = review.lower()\n",
    "    review = review.split()\n",
    "    review = [ps.stem(word) for word in review if not word in set(stopwords.words('english'))]\n",
    "    review = ' '.join(review)\n",
    "    corpus.append(review)"
   ]
  },
  {
   "cell_type": "code",
   "execution_count": 35,
   "metadata": {},
   "outputs": [
    {
     "data": {
      "text/plain": [
       "[' I do not think that I should apologize to you for having to speak in a foreign tongue.',\n",
       " 'I wonder if this loud speaker carries my voice to the farthest end of this vast audience.',\n",
       " 'If some of those who are far away are unable to listen to what I may say, it will be the fault of the loud speaker.',\n",
       " 'I was going to tell you that I do not wish to apologize.',\n",
       " 'I dare not.',\n",
       " 'You cannot understand the provincial language, which is my mother tongue.',\n",
       " 'I do not want to insult you by speaking in my own language (Gujarati).',\n",
       " 'Our national speech is Hindustani.',\n",
       " 'I know that it will be a long time before it can be made into an international speech.',\n",
       " 'For international commerce, undoubtedly, English occupies the first place.',\n",
       " 'I used to hear that French was the language of diplomacy.',\n",
       " 'I was told, when I was young, that if I wanted to go from one end of Europe to the other, I must try to pick up French.',\n",
       " 'I tried to learn French, in order that I may be able to make myself understood.',\n",
       " 'There is a rivalry between the French and the English.',\n",
       " 'Having been taught English, I have naturally to resort to it.',\n",
       " 'I was wondering, as to what I was to speak to you.',\n",
       " 'I wanted to collect my thoughts, but, let me confess to you that I had no time.',\n",
       " 'Yet I had promised yesterday that I would try to say a few words.',\n",
       " 'While I was coming with Badshah Khan, I asked for a little piece of paper and pencil.',\n",
       " 'I got a pen, instead of a pencil.',\n",
       " 'I tried to scribble a few words.',\n",
       " 'You will be sorry to hear that piece of paper is not by my side, though I remember what I wanted to say.']"
      ]
     },
     "execution_count": 35,
     "metadata": {},
     "output_type": "execute_result"
    }
   ],
   "source": [
    "sentences"
   ]
  },
  {
   "cell_type": "code",
   "execution_count": 36,
   "metadata": {},
   "outputs": [
    {
     "data": {
      "text/plain": [
       "['think apolog speak foreign tongu',\n",
       " 'wonder loud speaker carri voic farthest end vast audienc',\n",
       " 'far away unabl listen may say fault loud speaker',\n",
       " 'go tell wish apolog',\n",
       " 'dare',\n",
       " 'cannot understand provinci languag mother tongu',\n",
       " 'want insult speak languag gujarati',\n",
       " 'nation speech hindustani',\n",
       " 'know long time made intern speech',\n",
       " 'intern commerc undoubtedli english occupi first place',\n",
       " 'use hear french languag diplomaci',\n",
       " 'told young want go one end europ must tri pick french',\n",
       " 'tri learn french order may abl make understood',\n",
       " 'rivalri french english',\n",
       " 'taught english natur resort',\n",
       " 'wonder speak',\n",
       " 'want collect thought let confess time',\n",
       " 'yet promis yesterday would tri say word',\n",
       " 'come badshah khan ask littl piec paper pencil',\n",
       " 'got pen instead pencil',\n",
       " 'tri scribbl word',\n",
       " 'sorri hear piec paper side though rememb want say']"
      ]
     },
     "execution_count": 36,
     "metadata": {},
     "output_type": "execute_result"
    }
   ],
   "source": [
    "corpus"
   ]
  },
  {
   "cell_type": "code",
   "execution_count": 37,
   "metadata": {},
   "outputs": [],
   "source": [
    "# ^ - exccept a-z we substitute everything else with space in the sentences and lower it and split it to convert to list\n",
    "# do stemming exccept the stopwords\n",
    "# append to the corpus list\n",
    "\n",
    "#"
   ]
  },
  {
   "cell_type": "code",
   "execution_count": 38,
   "metadata": {},
   "outputs": [],
   "source": [
    "corpus1 = []\n",
    "for i in range(len(sentences)):\n",
    "    review = re.sub('[^a-zA-Z]', ' ', sentences[i])\n",
    "    review = review.lower()\n",
    "    review = review.split()\n",
    "    review = [wordnet.lemmatize(word) for word in review if not word in set(stopwords.words('english'))]\n",
    "    review = ' '.join(review)\n",
    "    corpus1.append(review)"
   ]
  },
  {
   "cell_type": "code",
   "execution_count": 39,
   "metadata": {},
   "outputs": [
    {
     "data": {
      "text/plain": [
       "['think apologize speak foreign tongue',\n",
       " 'wonder loud speaker carry voice farthest end vast audience',\n",
       " 'far away unable listen may say fault loud speaker',\n",
       " 'going tell wish apologize',\n",
       " 'dare',\n",
       " 'cannot understand provincial language mother tongue',\n",
       " 'want insult speaking language gujarati',\n",
       " 'national speech hindustani',\n",
       " 'know long time made international speech',\n",
       " 'international commerce undoubtedly english occupies first place',\n",
       " 'used hear french language diplomacy',\n",
       " 'told young wanted go one end europe must try pick french',\n",
       " 'tried learn french order may able make understood',\n",
       " 'rivalry french english',\n",
       " 'taught english naturally resort',\n",
       " 'wondering speak',\n",
       " 'wanted collect thought let confess time',\n",
       " 'yet promised yesterday would try say word',\n",
       " 'coming badshah khan asked little piece paper pencil',\n",
       " 'got pen instead pencil',\n",
       " 'tried scribble word',\n",
       " 'sorry hear piece paper side though remember wanted say']"
      ]
     },
     "execution_count": 39,
     "metadata": {},
     "output_type": "execute_result"
    }
   ],
   "source": [
    "corpus1"
   ]
  },
  {
   "cell_type": "code",
   "execution_count": 40,
   "metadata": {},
   "outputs": [],
   "source": [
    "# Creating the Bag of Words model\n",
    "\n",
    "from sklearn.feature_extraction.text import CountVectorizer\n",
    "cv = CountVectorizer(max_features = 1500)\n",
    "X = cv.fit_transform(corpus).toarray()"
   ]
  },
  {
   "cell_type": "code",
   "execution_count": 41,
   "metadata": {},
   "outputs": [
    {
     "data": {
      "text/plain": [
       "(22, 92)"
      ]
     },
     "execution_count": 41,
     "metadata": {},
     "output_type": "execute_result"
    }
   ],
   "source": [
    "X.shape  # 31 sentences"
   ]
  },
  {
   "cell_type": "code",
   "execution_count": 42,
   "metadata": {},
   "outputs": [
    {
     "data": {
      "text/plain": [
       "array([[0, 1, 0, ..., 0, 0, 0],\n",
       "       [0, 0, 0, ..., 0, 0, 0],\n",
       "       [0, 0, 0, ..., 0, 0, 0],\n",
       "       ...,\n",
       "       [0, 0, 0, ..., 0, 0, 0],\n",
       "       [0, 0, 0, ..., 0, 0, 0],\n",
       "       [0, 0, 0, ..., 0, 0, 0]], dtype=int64)"
      ]
     },
     "execution_count": 42,
     "metadata": {},
     "output_type": "execute_result"
    }
   ],
   "source": [
    "X"
   ]
  },
  {
   "cell_type": "code",
   "execution_count": null,
   "metadata": {},
   "outputs": [],
   "source": []
  }
 ],
 "metadata": {
  "kernelspec": {
   "display_name": "Python 3",
   "language": "python",
   "name": "python3"
  },
  "language_info": {
   "codemirror_mode": {
    "name": "ipython",
    "version": 3
   },
   "file_extension": ".py",
   "mimetype": "text/x-python",
   "name": "python",
   "nbconvert_exporter": "python",
   "pygments_lexer": "ipython3",
   "version": "3.7.6"
  }
 },
 "nbformat": 4,
 "nbformat_minor": 4
}
