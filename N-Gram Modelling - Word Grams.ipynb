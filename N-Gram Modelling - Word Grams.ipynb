{
 "cells": [
  {
   "cell_type": "code",
   "execution_count": 1,
   "metadata": {},
   "outputs": [],
   "source": [
    "import random\n",
    "import nltk"
   ]
  },
  {
   "cell_type": "code",
   "execution_count": 2,
   "metadata": {},
   "outputs": [],
   "source": [
    "# Sample data\n",
    "text = \"\"\"Global warming or climate change has become a worldwide concern. It is gradually developing into an unprecedented environmental crisis evident in melting glaciers, changing weather patterns, rising sea levels, floods, cyclones and droughts. Global warming implies an increase in the average temperature of the Earth due to entrapment of greenhouse gases in the earth’s atmosphere.\"\"\"\n",
    "\n"
   ]
  },
  {
   "cell_type": "code",
   "execution_count": 6,
   "metadata": {},
   "outputs": [],
   "source": [
    "# Order of the grams\n",
    "n = 3"
   ]
  },
  {
   "cell_type": "code",
   "execution_count": 7,
   "metadata": {},
   "outputs": [],
   "source": [
    "# Our N-Grams\n",
    "ngrams = {}"
   ]
  },
  {
   "cell_type": "code",
   "execution_count": 8,
   "metadata": {},
   "outputs": [],
   "source": [
    "# Building the model\n",
    "\n",
    "words = nltk.word_tokenize(text)\n",
    "for i in range(len(words)-n):\n",
    "    gram = ' '.join(words[i:i+n])\n",
    "    if gram not in ngrams.keys():\n",
    "        ngrams[gram] = []\n",
    "    ngrams[gram].append(words[i+n])"
   ]
  },
  {
   "cell_type": "code",
   "execution_count": 9,
   "metadata": {},
   "outputs": [
    {
     "data": {
      "text/plain": [
       "{'Global warming or': ['climate'],\n",
       " 'warming or climate': ['change'],\n",
       " 'or climate change': ['has'],\n",
       " 'climate change has': ['become'],\n",
       " 'change has become': ['a'],\n",
       " 'has become a': ['worldwide'],\n",
       " 'become a worldwide': ['concern'],\n",
       " 'a worldwide concern': ['.'],\n",
       " 'worldwide concern .': ['It'],\n",
       " 'concern . It': ['is'],\n",
       " '. It is': ['gradually'],\n",
       " 'It is gradually': ['developing'],\n",
       " 'is gradually developing': ['into'],\n",
       " 'gradually developing into': ['an'],\n",
       " 'developing into an': ['unprecedented'],\n",
       " 'into an unprecedented': ['environmental'],\n",
       " 'an unprecedented environmental': ['crisis'],\n",
       " 'unprecedented environmental crisis': ['evident'],\n",
       " 'environmental crisis evident': ['in'],\n",
       " 'crisis evident in': ['melting'],\n",
       " 'evident in melting': ['glaciers'],\n",
       " 'in melting glaciers': [','],\n",
       " 'melting glaciers ,': ['changing'],\n",
       " 'glaciers , changing': ['weather'],\n",
       " ', changing weather': ['patterns'],\n",
       " 'changing weather patterns': [','],\n",
       " 'weather patterns ,': ['rising'],\n",
       " 'patterns , rising': ['sea'],\n",
       " ', rising sea': ['levels'],\n",
       " 'rising sea levels': [','],\n",
       " 'sea levels ,': ['floods'],\n",
       " 'levels , floods': [','],\n",
       " ', floods ,': ['cyclones'],\n",
       " 'floods , cyclones': ['and'],\n",
       " ', cyclones and': ['droughts'],\n",
       " 'cyclones and droughts': ['.'],\n",
       " 'and droughts .': ['Global'],\n",
       " 'droughts . Global': ['warming'],\n",
       " '. Global warming': ['implies'],\n",
       " 'Global warming implies': ['an'],\n",
       " 'warming implies an': ['increase'],\n",
       " 'implies an increase': ['in'],\n",
       " 'an increase in': ['the'],\n",
       " 'increase in the': ['average'],\n",
       " 'in the average': ['temperature'],\n",
       " 'the average temperature': ['of'],\n",
       " 'average temperature of': ['the'],\n",
       " 'temperature of the': ['Earth'],\n",
       " 'of the Earth': ['due'],\n",
       " 'the Earth due': ['to'],\n",
       " 'Earth due to': ['entrapment'],\n",
       " 'due to entrapment': ['of'],\n",
       " 'to entrapment of': ['greenhouse'],\n",
       " 'entrapment of greenhouse': ['gases'],\n",
       " 'of greenhouse gases': ['in'],\n",
       " 'greenhouse gases in': ['the'],\n",
       " 'gases in the': ['earth'],\n",
       " 'in the earth': ['’'],\n",
       " 'the earth ’': ['s'],\n",
       " 'earth ’ s': ['atmosphere'],\n",
       " '’ s atmosphere': ['.']}"
      ]
     },
     "execution_count": 9,
     "metadata": {},
     "output_type": "execute_result"
    }
   ],
   "source": [
    "ngrams  # trigrams with list of words that follow the trigram "
   ]
  },
  {
   "cell_type": "code",
   "execution_count": 10,
   "metadata": {},
   "outputs": [
    {
     "name": "stdout",
     "output_type": "stream",
     "text": [
      "Global warming or climate change has become a worldwide concern . It is gradually developing into an unprecedented environmental crisis evident in melting glaciers , changing weather patterns , rising sea levels ,\n"
     ]
    }
   ],
   "source": [
    "# Testing the model\n",
    "\n",
    "currentGram = ' '.join(words[0:n])\n",
    "result = currentGram\n",
    "for i in range(30):\n",
    "    if currentGram not in ngrams.keys():\n",
    "        break\n",
    "    possibilities = ngrams[currentGram]\n",
    "    nextItem = possibilities[random.randrange(len(possibilities))]\n",
    "    result += ' '+nextItem\n",
    "    rWords = nltk.word_tokenize(result)\n",
    "    currentGram = ' '.join(rWords[len(rWords)-n:len(rWords)])\n",
    "\n",
    "print(result)"
   ]
  },
  {
   "cell_type": "code",
   "execution_count": null,
   "metadata": {},
   "outputs": [],
   "source": [
    "# increase n to get more accurate result"
   ]
  }
 ],
 "metadata": {
  "kernelspec": {
   "display_name": "Python 3",
   "language": "python",
   "name": "python3"
  },
  "language_info": {
   "codemirror_mode": {
    "name": "ipython",
    "version": 3
   },
   "file_extension": ".py",
   "mimetype": "text/x-python",
   "name": "python",
   "nbconvert_exporter": "python",
   "pygments_lexer": "ipython3",
   "version": "3.7.6"
  }
 },
 "nbformat": 4,
 "nbformat_minor": 4
}
